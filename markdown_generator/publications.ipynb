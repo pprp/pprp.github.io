{
 "cells": [
  {
   "cell_type": "markdown",
   "metadata": {
    "deletable": true,
    "editable": true
   },
   "source": [
    "# Publications markdown generator for academicpages\n",
    "\n",
    "Takes a TSV of publications with metadata and converts them for use with [academicpages.github.io](academicpages.github.io). This is an interactive Jupyter notebook ([see more info here](http://jupyter-notebook-beginner-guide.readthedocs.io/en/latest/what_is_jupyter.html)). The core python code is also in `publications.py`. Run either from the `markdown_generator` folder after replacing `publications.tsv` with one containing your data.\n",
    "\n",
    "TODO: Make this work with BibTex and other databases of citations, rather than Stuart's non-standard TSV format and citation style.\n"
   ]
  },
  {
   "cell_type": "markdown",
   "metadata": {},
   "source": [
    "## Data format\n",
    "\n",
    "The TSV needs to have the following columns: pub_date, title, venue, excerpt, citation, site_url, and paper_url, with a header at the top. \n",
    "\n",
    "- `excerpt` and `paper_url` can be blank, but the others must have values. \n",
    "- `pub_date` must be formatted as YYYY-MM-DD.\n",
    "- `url_slug` will be the descriptive part of the .md file and the permalink URL for the page about the paper. The .md file will be `YYYY-MM-DD-[url_slug].md` and the permalink will be `https://[yourdomain]/publications/YYYY-MM-DD-[url_slug]`\n",
    "\n",
    "This is how the raw file looks (it doesn't look pretty, use a spreadsheet or other program to edit and create)."
   ]
  },
  {
   "cell_type": "code",
   "execution_count": 1,
   "metadata": {
    "collapsed": false
   },
   "outputs": [
    {
     "name": "stdout",
     "output_type": "stream",
     "text": [
      "pub_date,title,venue,citation,paper_url\n",
      "2022-06-23,Review of one-shot neural architecture search,Computer Engineering & Science,\"Pei-jie DONG, Xin NIU, Zi-mian WEI, Xue-hui CHEN\",http://manu46.magtech.com.cn/ces/EN/abstract/abstract17574.shtml�\n",
      "2022-10-24,AutoRF: Auto Learning Receptive Fields with Spatial Pooling,IEEE Multi-Media Modeling (MMM)2023,\"Peijie Dong, Xin Niu, Zimian Wei, Hengyue Pan, Dongsheng Li, Zhen Huang\",https://link.springer.com/chapter/10.1007/978-3-031-27818-1_56\n",
      "2023-02-16,Progressive Meta-Pooling Learning for Lightweight Image Classification Model,\"IEEE International Conference on Acoustics, Speech and Signal Processing (ICASSP)2023\",\"Peijie Dong, Xin Niu, Zhiliang Tian, Lujun Li, Xiaodong Wang, Zimian Wei, Hengyue Pan, Dongsheng Li\",https://ieeexplore.ieee.org/abstract/document/10096973\n",
      "2023-02-16,RD-NAS: Enhancing One-shot Supernet Ranking Ability via Ranking Distillation from Zero-cost Proxies,\"IEEE International Conference on Acoustics, Speech and Signal Processing (ICASSP)2023\",\"Peijie Dong, Xin Niu, Lujun Li, Zhiliang Tian, Xiaodong Wang, Zimian Wei, Hengyue Pan, Dongsheng Li\",https://ieeexplore.ieee.org/abstract/document/10094709/\n",
      "2023-03-28,DisWOT: Student Architecture Search for Distillation WithOut Training,IEEE/CVF Conference on Computer Vision and Pattern Recognition (CVPR) 2023,\"Peijie Dong, Lujun Li, Zimian Wei\",https://openaccess.thecvf.com/content/CVPR2023/html/Dong_DisWOT_Student_Architecture_Search_for_Distillation_WithOut_Training_CVPR_2023_paper.html\n",
      "2023-09-27,EMQ: Evolving Training-free Proxies for Automated Mixed Precision Quantization�,IEEE/CVF International Conference on Computer Vision (ICCV) 2023,\"Peijie Dong, Lujun Li, Zimian Wei, Xin Niu, Zhiliang Tian, Hengyue Pan\",https://arxiv.org/abs/2307.10554\n",
      ",,,,"
     ]
    }
   ],
   "source": [
    "!cat publications-v2.csv"
   ]
  },
  {
   "cell_type": "markdown",
   "metadata": {},
   "source": [
    "## Import pandas\n",
    "\n",
    "We are using the very handy pandas library for dataframes."
   ]
  },
  {
   "cell_type": "code",
   "execution_count": 2,
   "metadata": {
    "collapsed": true,
    "deletable": true,
    "editable": true
   },
   "outputs": [],
   "source": [
    "import pandas as pd"
   ]
  },
  {
   "cell_type": "markdown",
   "metadata": {},
   "source": [
    "## Import TSV\n",
    "\n",
    "Pandas makes this easy with the read_csv function. We are using a TSV, so we specify the separator as a tab, or `\\t`.\n",
    "\n",
    "I found it important to put this data in a tab-separated values format, because there are a lot of commas in this kind of data and comma-separated values can get messed up. However, you can modify the import statement, as pandas also has read_excel(), read_json(), and others."
   ]
  },
  {
   "cell_type": "code",
   "execution_count": 3,
   "metadata": {
    "collapsed": false,
    "deletable": true,
    "editable": true
   },
   "outputs": [
    {
     "data": {
      "text/html": [
       "<div>\n",
       "<style scoped>\n",
       "    .dataframe tbody tr th:only-of-type {\n",
       "        vertical-align: middle;\n",
       "    }\n",
       "\n",
       "    .dataframe tbody tr th {\n",
       "        vertical-align: top;\n",
       "    }\n",
       "\n",
       "    .dataframe thead th {\n",
       "        text-align: right;\n",
       "    }\n",
       "</style>\n",
       "<table border=\"1\" class=\"dataframe\">\n",
       "  <thead>\n",
       "    <tr style=\"text-align: right;\">\n",
       "      <th></th>\n",
       "      <th>pub_date</th>\n",
       "      <th>title</th>\n",
       "      <th>venue</th>\n",
       "      <th>citation</th>\n",
       "      <th>paper_url</th>\n",
       "    </tr>\n",
       "  </thead>\n",
       "  <tbody>\n",
       "    <tr>\n",
       "      <th>0</th>\n",
       "      <td>2022-06-23</td>\n",
       "      <td>Review of one-shot neural architecture search</td>\n",
       "      <td>Computer Engineering &amp; Science</td>\n",
       "      <td>Pei-jie DONG, Xin NIU, Zi-mian WEI, Xue-hui CHEN</td>\n",
       "      <td>http://manu46.magtech.com.cn/ces/EN/abstract/a...</td>\n",
       "    </tr>\n",
       "    <tr>\n",
       "      <th>1</th>\n",
       "      <td>2022-10-24</td>\n",
       "      <td>AutoRF: Auto Learning Receptive Fields with Sp...</td>\n",
       "      <td>IEEE Multi-Media Modeling (MMM)2023</td>\n",
       "      <td>Peijie Dong, Xin Niu, Zimian Wei, Hengyue Pan,...</td>\n",
       "      <td>https://link.springer.com/chapter/10.1007/978-...</td>\n",
       "    </tr>\n",
       "    <tr>\n",
       "      <th>2</th>\n",
       "      <td>2023-02-16</td>\n",
       "      <td>Progressive Meta-Pooling Learning for Lightwei...</td>\n",
       "      <td>IEEE International Conference on Acoustics, Sp...</td>\n",
       "      <td>Peijie Dong, Xin Niu, Zhiliang Tian, Lujun Li,...</td>\n",
       "      <td>https://ieeexplore.ieee.org/abstract/document/...</td>\n",
       "    </tr>\n",
       "    <tr>\n",
       "      <th>3</th>\n",
       "      <td>2023-02-16</td>\n",
       "      <td>RD-NAS: Enhancing One-shot Supernet Ranking Ab...</td>\n",
       "      <td>IEEE International Conference on Acoustics, Sp...</td>\n",
       "      <td>Peijie Dong, Xin Niu, Lujun Li, Zhiliang Tian,...</td>\n",
       "      <td>https://ieeexplore.ieee.org/abstract/document/...</td>\n",
       "    </tr>\n",
       "    <tr>\n",
       "      <th>4</th>\n",
       "      <td>2023-03-28</td>\n",
       "      <td>DisWOT: Student Architecture Search for Distil...</td>\n",
       "      <td>IEEE/CVF Conference on Computer Vision and Pat...</td>\n",
       "      <td>Peijie Dong, Lujun Li, Zimian Wei</td>\n",
       "      <td>https://openaccess.thecvf.com/content/CVPR2023...</td>\n",
       "    </tr>\n",
       "    <tr>\n",
       "      <th>5</th>\n",
       "      <td>2023-09-27</td>\n",
       "      <td>EMQ: Evolving Training-free Proxies for Automa...</td>\n",
       "      <td>IEEE/CVF International Conference on Computer ...</td>\n",
       "      <td>Peijie Dong, Lujun Li, Zimian Wei, Xin Niu, Zh...</td>\n",
       "      <td>https://arxiv.org/abs/2307.10554</td>\n",
       "    </tr>\n",
       "    <tr>\n",
       "      <th>6</th>\n",
       "      <td>NaN</td>\n",
       "      <td>NaN</td>\n",
       "      <td>NaN</td>\n",
       "      <td>NaN</td>\n",
       "      <td>NaN</td>\n",
       "    </tr>\n",
       "  </tbody>\n",
       "</table>\n",
       "</div>"
      ],
      "text/plain": [
       "     pub_date                                              title  \\\n",
       "0  2022-06-23      Review of one-shot neural architecture search   \n",
       "1  2022-10-24  AutoRF: Auto Learning Receptive Fields with Sp...   \n",
       "2  2023-02-16  Progressive Meta-Pooling Learning for Lightwei...   \n",
       "3  2023-02-16  RD-NAS: Enhancing One-shot Supernet Ranking Ab...   \n",
       "4  2023-03-28  DisWOT: Student Architecture Search for Distil...   \n",
       "5  2023-09-27  EMQ: Evolving Training-free Proxies for Automa...   \n",
       "6         NaN                                                NaN   \n",
       "\n",
       "                                               venue  \\\n",
       "0                     Computer Engineering & Science   \n",
       "1                IEEE Multi-Media Modeling (MMM)2023   \n",
       "2  IEEE International Conference on Acoustics, Sp...   \n",
       "3  IEEE International Conference on Acoustics, Sp...   \n",
       "4  IEEE/CVF Conference on Computer Vision and Pat...   \n",
       "5  IEEE/CVF International Conference on Computer ...   \n",
       "6                                                NaN   \n",
       "\n",
       "                                            citation  \\\n",
       "0   Pei-jie DONG, Xin NIU, Zi-mian WEI, Xue-hui CHEN   \n",
       "1  Peijie Dong, Xin Niu, Zimian Wei, Hengyue Pan,...   \n",
       "2  Peijie Dong, Xin Niu, Zhiliang Tian, Lujun Li,...   \n",
       "3  Peijie Dong, Xin Niu, Lujun Li, Zhiliang Tian,...   \n",
       "4                  Peijie Dong, Lujun Li, Zimian Wei   \n",
       "5  Peijie Dong, Lujun Li, Zimian Wei, Xin Niu, Zh...   \n",
       "6                                                NaN   \n",
       "\n",
       "                                           paper_url  \n",
       "0  http://manu46.magtech.com.cn/ces/EN/abstract/a...  \n",
       "1  https://link.springer.com/chapter/10.1007/978-...  \n",
       "2  https://ieeexplore.ieee.org/abstract/document/...  \n",
       "3  https://ieeexplore.ieee.org/abstract/document/...  \n",
       "4  https://openaccess.thecvf.com/content/CVPR2023...  \n",
       "5                   https://arxiv.org/abs/2307.10554  \n",
       "6                                                NaN  "
      ]
     },
     "execution_count": 3,
     "metadata": {},
     "output_type": "execute_result"
    }
   ],
   "source": [
    "# import chardet\n",
    "# with open('publications-v2.csv', 'rb') as f:\n",
    "#     publications = chardet.detect(f.read()) \n",
    "publications = pd.read_csv(\"publications-v2.csv\", header=0, encoding='MacRoman')\n",
    "publications\n"
   ]
  },
  {
   "cell_type": "markdown",
   "metadata": {},
   "source": [
    "## Escape special characters\n",
    "\n",
    "YAML is very picky about how it takes a valid string, so we are replacing single and double quotes (and ampersands) with their HTML encoded equivilents. This makes them look not so readable in raw format, but they are parsed and rendered nicely."
   ]
  },
  {
   "cell_type": "code",
   "execution_count": 4,
   "metadata": {
    "collapsed": true,
    "deletable": true,
    "editable": true
   },
   "outputs": [],
   "source": [
    "html_escape_table = {\n",
    "    \"&\": \"&amp;\",\n",
    "    '\"': \"&quot;\",\n",
    "    \"'\": \"&apos;\"\n",
    "    }\n",
    "\n",
    "def html_escape(text):\n",
    "    \"\"\"Produce entities within text.\"\"\"\n",
    "    return \"\".join(html_escape_table.get(c,c) for c in text)"
   ]
  },
  {
   "cell_type": "markdown",
   "metadata": {},
   "source": [
    "## Creating the markdown files\n",
    "\n",
    "This is where the heavy lifting is done. This loops through all the rows in the TSV dataframe, then starts to concatentate a big string (```md```) that contains the markdown for each type. It does the YAML metadata first, then does the description for the individual page."
   ]
  },
  {
   "cell_type": "code",
   "execution_count": 5,
   "metadata": {
    "collapsed": false,
    "deletable": true,
    "editable": true
   },
   "outputs": [
    {
     "ename": "TypeError",
     "evalue": "'float' object is not subscriptable",
     "output_type": "error",
     "traceback": [
      "\u001b[0;31m---------------------------------------------------------------------------\u001b[0m",
      "\u001b[0;31mTypeError\u001b[0m                                 Traceback (most recent call last)",
      "\u001b[1;32m/Users/peyton/Workspace/pprp.github.io/markdown_generator/publications.ipynb Cell 11\u001b[0m line \u001b[0;36m6\n\u001b[1;32m      <a href='vscode-notebook-cell:/Users/peyton/Workspace/pprp.github.io/markdown_generator/publications.ipynb#X13sZmlsZQ%3D%3D?line=3'>4</a>\u001b[0m md_filename \u001b[39m=\u001b[39m \u001b[39mstr\u001b[39m(item\u001b[39m.\u001b[39mpub_date) \u001b[39m+\u001b[39m \u001b[39m\"\u001b[39m\u001b[39m-\u001b[39m\u001b[39m\"\u001b[39m \u001b[39m+\u001b[39m \u001b[39m\"\u001b[39m\u001b[39m.md\u001b[39m\u001b[39m\"\u001b[39m\n\u001b[1;32m      <a href='vscode-notebook-cell:/Users/peyton/Workspace/pprp.github.io/markdown_generator/publications.ipynb#X13sZmlsZQ%3D%3D?line=4'>5</a>\u001b[0m html_filename \u001b[39m=\u001b[39m \u001b[39mstr\u001b[39m(item\u001b[39m.\u001b[39mpub_date) \u001b[39m+\u001b[39m \u001b[39m\"\u001b[39m\u001b[39m-\u001b[39m\u001b[39m\"\u001b[39m\n\u001b[0;32m----> <a href='vscode-notebook-cell:/Users/peyton/Workspace/pprp.github.io/markdown_generator/publications.ipynb#X13sZmlsZQ%3D%3D?line=5'>6</a>\u001b[0m year \u001b[39m=\u001b[39m item\u001b[39m.\u001b[39;49mpub_date[:\u001b[39m4\u001b[39;49m]\n\u001b[1;32m      <a href='vscode-notebook-cell:/Users/peyton/Workspace/pprp.github.io/markdown_generator/publications.ipynb#X13sZmlsZQ%3D%3D?line=7'>8</a>\u001b[0m \u001b[39m## YAML variables\u001b[39;00m\n\u001b[1;32m     <a href='vscode-notebook-cell:/Users/peyton/Workspace/pprp.github.io/markdown_generator/publications.ipynb#X13sZmlsZQ%3D%3D?line=9'>10</a>\u001b[0m md \u001b[39m=\u001b[39m \u001b[39m\"\u001b[39m\u001b[39m---\u001b[39m\u001b[39m\\n\u001b[39;00m\u001b[39mtitle: \u001b[39m\u001b[39m\\\"\u001b[39;00m\u001b[39m\"\u001b[39m   \u001b[39m+\u001b[39m item\u001b[39m.\u001b[39mtitle \u001b[39m+\u001b[39m \u001b[39m'\u001b[39m\u001b[39m\"\u001b[39m\u001b[39m\\n\u001b[39;00m\u001b[39m'\u001b[39m\n",
      "\u001b[0;31mTypeError\u001b[0m: 'float' object is not subscriptable"
     ]
    }
   ],
   "source": [
    "import os\n",
    "for row, item in publications.iterrows():\n",
    "    \n",
    "    md_filename = str(item.pub_date) + \"-\" + str(item.title[:10]) + \".md\"\n",
    "    html_filename = str(item.pub_date) + \"-\"\n",
    "    year = item.pub_date[:4]\n",
    "    \n",
    "    ## YAML variables\n",
    "    \n",
    "    md = \"---\\ntitle: \\\"\"   + item.title + '\"\\n'\n",
    "    \n",
    "    md += \"\"\"collection: publications\"\"\"\n",
    "    \n",
    "    md += \"\"\"\\npermalink: /publication/\"\"\" + html_filename\n",
    "    \n",
    "    md += \"\\ndate: \" + str(item.pub_date) \n",
    "    \n",
    "    md += \"\\nvenue: '\" + html_escape(item.venue) + \"'\"\n",
    "    \n",
    "    if len(str(item.paper_url)) > 5:\n",
    "        md += \"\\npaperurl: '\" + item.paper_url + \"'\"\n",
    "    \n",
    "    md += \"\\ncitation: '\" + html_escape(item.citation) + \"'\"\n",
    "    \n",
    "    md += \"\\n---\"\n",
    "    \n",
    "    ## Markdown description for individual page\n",
    "    \n",
    "    if len(str(item.paper_url)) > 5:\n",
    "        md += \"\\n[Download paper here](\" + item.paper_url + \")\\n\" \n",
    "        \n",
    "    md += \"\\nRecommended citation: \" + item.citation\n",
    "    \n",
    "    md_filename = os.path.basename(md_filename)\n",
    "       \n",
    "    with open(\"../_publications/\" + md_filename, 'w') as f:\n",
    "        f.write(md)"
   ]
  },
  {
   "cell_type": "markdown",
   "metadata": {},
   "source": [
    "These files are in the publications directory, one directory below where we're working from."
   ]
  },
  {
   "cell_type": "code",
   "execution_count": null,
   "metadata": {
    "collapsed": false,
    "deletable": true,
    "editable": true
   },
   "outputs": [
    {
     "name": "stdout",
     "output_type": "stream",
     "text": [
      "2009-10-01-paper-title-number-1.md  2015-10-01-paper-title-number-3.md\r\n",
      "2010-10-01-paper-title-number-2.md\r\n"
     ]
    }
   ],
   "source": [
    "!ls ../_publications/"
   ]
  },
  {
   "cell_type": "code",
   "execution_count": null,
   "metadata": {
    "collapsed": false,
    "deletable": true,
    "editable": true
   },
   "outputs": [
    {
     "name": "stdout",
     "output_type": "stream",
     "text": [
      "---\r\n",
      "title: \"Paper Title Number 1\"\r\n",
      "collection: publications\r\n",
      "permalink: /publication/2009-10-01-paper-title-number-1\r\n",
      "excerpt: 'This paper is about the number 1. The number 2 is left for future work.'\r\n",
      "date: 2009-10-01\r\n",
      "venue: 'Journal 1'\r\n",
      "paperurl: 'http://academicpages.github.io/files/paper1.pdf'\r\n",
      "citation: 'Your Name, You. (2009). &quot;Paper Title Number 1.&quot; <i>Journal 1</i>. 1(1).'\r\n",
      "---\r\n",
      "This paper is about the number 1. The number 2 is left for future work.\r\n",
      "\r\n",
      "[Download paper here](http://academicpages.github.io/files/paper1.pdf)\r\n",
      "\r\n",
      "Recommended citation: Your Name, You. (2009). \"Paper Title Number 1.\" <i>Journal 1</i>. 1(1)."
     ]
    }
   ],
   "source": [
    "!cat ../_publications/2009-10-01-paper-title-number-1.md"
   ]
  },
  {
   "cell_type": "code",
   "execution_count": null,
   "metadata": {
    "collapsed": true,
    "deletable": true,
    "editable": true
   },
   "outputs": [],
   "source": []
  }
 ],
 "metadata": {
  "kernelspec": {
   "display_name": "Python 3",
   "language": "python",
   "name": "python3"
  },
  "language_info": {
   "codemirror_mode": {
    "name": "ipython",
    "version": 3
   },
   "file_extension": ".py",
   "mimetype": "text/x-python",
   "name": "python",
   "nbconvert_exporter": "python",
   "pygments_lexer": "ipython3",
   "version": "3.11.4"
  }
 },
 "nbformat": 4,
 "nbformat_minor": 0
}
